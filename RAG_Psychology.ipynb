{
  "nbformat": 4,
  "nbformat_minor": 0,
  "metadata": {
    "colab": {
      "provenance": [],
      "collapsed_sections": [
        "DtnP3MR6xdEE",
        "wLtmYp2AdfSJ",
        "kdpFwpiad_IH"
      ],
      "gpuType": "T4"
    },
    "kernelspec": {
      "name": "python3",
      "display_name": "Python 3"
    },
    "language_info": {
      "name": "python"
    },
    "accelerator": "GPU"
  },
  "cells": [
    {
      "cell_type": "markdown",
      "source": [
        "# ***Import Libraries***"
      ],
      "metadata": {
        "id": "DtnP3MR6xdEE"
      }
    },
    {
      "cell_type": "code",
      "source": [
        "!pip install openai"
      ],
      "metadata": {
        "colab": {
          "base_uri": "https://localhost:8080/"
        },
        "id": "3FSLE7S9wNZb",
        "outputId": "b0ed7dcc-c768-4cc2-ee0e-b7fb67f50be2"
      },
      "execution_count": 1,
      "outputs": [
        {
          "output_type": "stream",
          "name": "stdout",
          "text": [
            "Collecting openai\n",
            "  Downloading openai-1.37.0-py3-none-any.whl (337 kB)\n",
            "\u001b[2K     \u001b[90m━━━━━━━━━━━━━━━━━━━━━━━━━━━━━━━━━━━━━━━━\u001b[0m \u001b[32m337.0/337.0 kB\u001b[0m \u001b[31m4.8 MB/s\u001b[0m eta \u001b[36m0:00:00\u001b[0m\n",
            "\u001b[?25hRequirement already satisfied: anyio<5,>=3.5.0 in /usr/local/lib/python3.10/dist-packages (from openai) (3.7.1)\n",
            "Requirement already satisfied: distro<2,>=1.7.0 in /usr/lib/python3/dist-packages (from openai) (1.7.0)\n",
            "Collecting httpx<1,>=0.23.0 (from openai)\n",
            "  Downloading httpx-0.27.0-py3-none-any.whl (75 kB)\n",
            "\u001b[2K     \u001b[90m━━━━━━━━━━━━━━━━━━━━━━━━━━━━━━━━━━━━━━━━\u001b[0m \u001b[32m75.6/75.6 kB\u001b[0m \u001b[31m5.8 MB/s\u001b[0m eta \u001b[36m0:00:00\u001b[0m\n",
            "\u001b[?25hRequirement already satisfied: pydantic<3,>=1.9.0 in /usr/local/lib/python3.10/dist-packages (from openai) (2.8.2)\n",
            "Requirement already satisfied: sniffio in /usr/local/lib/python3.10/dist-packages (from openai) (1.3.1)\n",
            "Requirement already satisfied: tqdm>4 in /usr/local/lib/python3.10/dist-packages (from openai) (4.66.4)\n",
            "Requirement already satisfied: typing-extensions<5,>=4.7 in /usr/local/lib/python3.10/dist-packages (from openai) (4.12.2)\n",
            "Requirement already satisfied: idna>=2.8 in /usr/local/lib/python3.10/dist-packages (from anyio<5,>=3.5.0->openai) (3.7)\n",
            "Requirement already satisfied: exceptiongroup in /usr/local/lib/python3.10/dist-packages (from anyio<5,>=3.5.0->openai) (1.2.2)\n",
            "Requirement already satisfied: certifi in /usr/local/lib/python3.10/dist-packages (from httpx<1,>=0.23.0->openai) (2024.7.4)\n",
            "Collecting httpcore==1.* (from httpx<1,>=0.23.0->openai)\n",
            "  Downloading httpcore-1.0.5-py3-none-any.whl (77 kB)\n",
            "\u001b[2K     \u001b[90m━━━━━━━━━━━━━━━━━━━━━━━━━━━━━━━━━━━━━━━━\u001b[0m \u001b[32m77.9/77.9 kB\u001b[0m \u001b[31m4.8 MB/s\u001b[0m eta \u001b[36m0:00:00\u001b[0m\n",
            "\u001b[?25hCollecting h11<0.15,>=0.13 (from httpcore==1.*->httpx<1,>=0.23.0->openai)\n",
            "  Downloading h11-0.14.0-py3-none-any.whl (58 kB)\n",
            "\u001b[2K     \u001b[90m━━━━━━━━━━━━━━━━━━━━━━━━━━━━━━━━━━━━━━━━\u001b[0m \u001b[32m58.3/58.3 kB\u001b[0m \u001b[31m7.2 MB/s\u001b[0m eta \u001b[36m0:00:00\u001b[0m\n",
            "\u001b[?25hRequirement already satisfied: annotated-types>=0.4.0 in /usr/local/lib/python3.10/dist-packages (from pydantic<3,>=1.9.0->openai) (0.7.0)\n",
            "Requirement already satisfied: pydantic-core==2.20.1 in /usr/local/lib/python3.10/dist-packages (from pydantic<3,>=1.9.0->openai) (2.20.1)\n",
            "Installing collected packages: h11, httpcore, httpx, openai\n",
            "Successfully installed h11-0.14.0 httpcore-1.0.5 httpx-0.27.0 openai-1.37.0\n"
          ]
        }
      ]
    },
    {
      "cell_type": "code",
      "source": [
        "!pip install --upgrade --quiet  langchain langchain-community langchain-openai langchain-experimental neo4j\n",
        "!pip install pypdf\n",
        "!pip install tiktoken\n",
        "!pip install sentence-transformers\n",
        "!pip install llama-index"
      ],
      "metadata": {
        "colab": {
          "base_uri": "https://localhost:8080/"
        },
        "id": "6ifEf0vexyNm",
        "outputId": "cda5212c-2d49-433f-decf-cdabfe565a08"
      },
      "execution_count": 2,
      "outputs": [
        {
          "output_type": "stream",
          "name": "stdout",
          "text": [
            "\u001b[2K     \u001b[90m━━━━━━━━━━━━━━━━━━━━━━━━━━━━━━━━━━━━━━━━\u001b[0m \u001b[32m990.3/990.3 kB\u001b[0m \u001b[31m8.7 MB/s\u001b[0m eta \u001b[36m0:00:00\u001b[0m\n",
            "\u001b[2K     \u001b[90m━━━━━━━━━━━━━━━━━━━━━━━━━━━━━━━━━━━━━━━━\u001b[0m \u001b[32m2.3/2.3 MB\u001b[0m \u001b[31m19.4 MB/s\u001b[0m eta \u001b[36m0:00:00\u001b[0m\n",
            "\u001b[2K     \u001b[90m━━━━━━━━━━━━━━━━━━━━━━━━━━━━━━━━━━━━━━━━\u001b[0m \u001b[32m46.7/46.7 kB\u001b[0m \u001b[31m5.0 MB/s\u001b[0m eta \u001b[36m0:00:00\u001b[0m\n",
            "\u001b[2K     \u001b[90m━━━━━━━━━━━━━━━━━━━━━━━━━━━━━━━━━━━━━━━━\u001b[0m \u001b[32m203.2/203.2 kB\u001b[0m \u001b[31m17.9 MB/s\u001b[0m eta \u001b[36m0:00:00\u001b[0m\n",
            "\u001b[2K     \u001b[90m━━━━━━━━━━━━━━━━━━━━━━━━━━━━━━━━━━━━━━━━\u001b[0m \u001b[32m293.5/293.5 kB\u001b[0m \u001b[31m18.1 MB/s\u001b[0m eta \u001b[36m0:00:00\u001b[0m\n",
            "\u001b[2K     \u001b[90m━━━━━━━━━━━━━━━━━━━━━━━━━━━━━━━━━━━━━━━━\u001b[0m \u001b[32m374.2/374.2 kB\u001b[0m \u001b[31m23.8 MB/s\u001b[0m eta \u001b[36m0:00:00\u001b[0m\n",
            "\u001b[2K     \u001b[90m━━━━━━━━━━━━━━━━━━━━━━━━━━━━━━━━━━━━━━━━\u001b[0m \u001b[32m139.8/139.8 kB\u001b[0m \u001b[31m7.8 MB/s\u001b[0m eta \u001b[36m0:00:00\u001b[0m\n",
            "\u001b[2K     \u001b[90m━━━━━━━━━━━━━━━━━━━━━━━━━━━━━━━━━━━━━━━━\u001b[0m \u001b[32m1.1/1.1 MB\u001b[0m \u001b[31m27.0 MB/s\u001b[0m eta \u001b[36m0:00:00\u001b[0m\n",
            "\u001b[2K     \u001b[90m━━━━━━━━━━━━━━━━━━━━━━━━━━━━━━━━━━━━━━━━\u001b[0m \u001b[32m49.2/49.2 kB\u001b[0m \u001b[31m4.5 MB/s\u001b[0m eta \u001b[36m0:00:00\u001b[0m\n",
            "\u001b[2K     \u001b[90m━━━━━━━━━━━━━━━━━━━━━━━━━━━━━━━━━━━━━━━━\u001b[0m \u001b[32m141.1/141.1 kB\u001b[0m \u001b[31m5.9 MB/s\u001b[0m eta \u001b[36m0:00:00\u001b[0m\n",
            "\u001b[?25hCollecting pypdf\n",
            "  Downloading pypdf-4.3.1-py3-none-any.whl (295 kB)\n",
            "\u001b[2K     \u001b[90m━━━━━━━━━━━━━━━━━━━━━━━━━━━━━━━━━━━━━━━━\u001b[0m \u001b[32m295.8/295.8 kB\u001b[0m \u001b[31m1.8 MB/s\u001b[0m eta \u001b[36m0:00:00\u001b[0m\n",
            "\u001b[?25hRequirement already satisfied: typing_extensions>=4.0 in /usr/local/lib/python3.10/dist-packages (from pypdf) (4.12.2)\n",
            "Installing collected packages: pypdf\n",
            "Successfully installed pypdf-4.3.1\n",
            "Requirement already satisfied: tiktoken in /usr/local/lib/python3.10/dist-packages (0.7.0)\n",
            "Requirement already satisfied: regex>=2022.1.18 in /usr/local/lib/python3.10/dist-packages (from tiktoken) (2024.5.15)\n",
            "Requirement already satisfied: requests>=2.26.0 in /usr/local/lib/python3.10/dist-packages (from tiktoken) (2.31.0)\n",
            "Requirement already satisfied: charset-normalizer<4,>=2 in /usr/local/lib/python3.10/dist-packages (from requests>=2.26.0->tiktoken) (3.3.2)\n",
            "Requirement already satisfied: idna<4,>=2.5 in /usr/local/lib/python3.10/dist-packages (from requests>=2.26.0->tiktoken) (3.7)\n",
            "Requirement already satisfied: urllib3<3,>=1.21.1 in /usr/local/lib/python3.10/dist-packages (from requests>=2.26.0->tiktoken) (2.0.7)\n",
            "Requirement already satisfied: certifi>=2017.4.17 in /usr/local/lib/python3.10/dist-packages (from requests>=2.26.0->tiktoken) (2024.7.4)\n",
            "Collecting sentence-transformers\n",
            "  Downloading sentence_transformers-3.0.1-py3-none-any.whl (227 kB)\n",
            "\u001b[2K     \u001b[90m━━━━━━━━━━━━━━━━━━━━━━━━━━━━━━━━━━━━━━━━\u001b[0m \u001b[32m227.1/227.1 kB\u001b[0m \u001b[31m5.1 MB/s\u001b[0m eta \u001b[36m0:00:00\u001b[0m\n",
            "\u001b[?25hRequirement already satisfied: transformers<5.0.0,>=4.34.0 in /usr/local/lib/python3.10/dist-packages (from sentence-transformers) (4.42.4)\n",
            "Requirement already satisfied: tqdm in /usr/local/lib/python3.10/dist-packages (from sentence-transformers) (4.66.4)\n",
            "Requirement already satisfied: torch>=1.11.0 in /usr/local/lib/python3.10/dist-packages (from sentence-transformers) (2.3.1+cu121)\n",
            "Requirement already satisfied: numpy in /usr/local/lib/python3.10/dist-packages (from sentence-transformers) (1.25.2)\n",
            "Requirement already satisfied: scikit-learn in /usr/local/lib/python3.10/dist-packages (from sentence-transformers) (1.2.2)\n",
            "Requirement already satisfied: scipy in /usr/local/lib/python3.10/dist-packages (from sentence-transformers) (1.11.4)\n",
            "Requirement already satisfied: huggingface-hub>=0.15.1 in /usr/local/lib/python3.10/dist-packages (from sentence-transformers) (0.23.5)\n",
            "Requirement already satisfied: Pillow in /usr/local/lib/python3.10/dist-packages (from sentence-transformers) (9.4.0)\n",
            "Requirement already satisfied: filelock in /usr/local/lib/python3.10/dist-packages (from huggingface-hub>=0.15.1->sentence-transformers) (3.15.4)\n",
            "Requirement already satisfied: fsspec>=2023.5.0 in /usr/local/lib/python3.10/dist-packages (from huggingface-hub>=0.15.1->sentence-transformers) (2023.6.0)\n",
            "Requirement already satisfied: packaging>=20.9 in /usr/local/lib/python3.10/dist-packages (from huggingface-hub>=0.15.1->sentence-transformers) (24.1)\n",
            "Requirement already satisfied: pyyaml>=5.1 in /usr/local/lib/python3.10/dist-packages (from huggingface-hub>=0.15.1->sentence-transformers) (6.0.1)\n",
            "Requirement already satisfied: requests in /usr/local/lib/python3.10/dist-packages (from huggingface-hub>=0.15.1->sentence-transformers) (2.31.0)\n",
            "Requirement already satisfied: typing-extensions>=3.7.4.3 in /usr/local/lib/python3.10/dist-packages (from huggingface-hub>=0.15.1->sentence-transformers) (4.12.2)\n",
            "Requirement already satisfied: sympy in /usr/local/lib/python3.10/dist-packages (from torch>=1.11.0->sentence-transformers) (1.13.0)\n",
            "Requirement already satisfied: networkx in /usr/local/lib/python3.10/dist-packages (from torch>=1.11.0->sentence-transformers) (3.3)\n",
            "Requirement already satisfied: jinja2 in /usr/local/lib/python3.10/dist-packages (from torch>=1.11.0->sentence-transformers) (3.1.4)\n",
            "Collecting nvidia-cuda-nvrtc-cu12==12.1.105 (from torch>=1.11.0->sentence-transformers)\n",
            "  Using cached nvidia_cuda_nvrtc_cu12-12.1.105-py3-none-manylinux1_x86_64.whl (23.7 MB)\n",
            "Collecting nvidia-cuda-runtime-cu12==12.1.105 (from torch>=1.11.0->sentence-transformers)\n",
            "  Using cached nvidia_cuda_runtime_cu12-12.1.105-py3-none-manylinux1_x86_64.whl (823 kB)\n",
            "Collecting nvidia-cuda-cupti-cu12==12.1.105 (from torch>=1.11.0->sentence-transformers)\n",
            "  Using cached nvidia_cuda_cupti_cu12-12.1.105-py3-none-manylinux1_x86_64.whl (14.1 MB)\n",
            "Collecting nvidia-cudnn-cu12==8.9.2.26 (from torch>=1.11.0->sentence-transformers)\n",
            "  Using cached nvidia_cudnn_cu12-8.9.2.26-py3-none-manylinux1_x86_64.whl (731.7 MB)\n",
            "Collecting nvidia-cublas-cu12==12.1.3.1 (from torch>=1.11.0->sentence-transformers)\n",
            "  Using cached nvidia_cublas_cu12-12.1.3.1-py3-none-manylinux1_x86_64.whl (410.6 MB)\n",
            "Collecting nvidia-cufft-cu12==11.0.2.54 (from torch>=1.11.0->sentence-transformers)\n",
            "  Using cached nvidia_cufft_cu12-11.0.2.54-py3-none-manylinux1_x86_64.whl (121.6 MB)\n",
            "Collecting nvidia-curand-cu12==10.3.2.106 (from torch>=1.11.0->sentence-transformers)\n",
            "  Using cached nvidia_curand_cu12-10.3.2.106-py3-none-manylinux1_x86_64.whl (56.5 MB)\n",
            "Collecting nvidia-cusolver-cu12==11.4.5.107 (from torch>=1.11.0->sentence-transformers)\n",
            "  Using cached nvidia_cusolver_cu12-11.4.5.107-py3-none-manylinux1_x86_64.whl (124.2 MB)\n",
            "Collecting nvidia-cusparse-cu12==12.1.0.106 (from torch>=1.11.0->sentence-transformers)\n",
            "  Using cached nvidia_cusparse_cu12-12.1.0.106-py3-none-manylinux1_x86_64.whl (196.0 MB)\n",
            "Collecting nvidia-nccl-cu12==2.20.5 (from torch>=1.11.0->sentence-transformers)\n",
            "  Using cached nvidia_nccl_cu12-2.20.5-py3-none-manylinux2014_x86_64.whl (176.2 MB)\n",
            "Collecting nvidia-nvtx-cu12==12.1.105 (from torch>=1.11.0->sentence-transformers)\n",
            "  Using cached nvidia_nvtx_cu12-12.1.105-py3-none-manylinux1_x86_64.whl (99 kB)\n",
            "Requirement already satisfied: triton==2.3.1 in /usr/local/lib/python3.10/dist-packages (from torch>=1.11.0->sentence-transformers) (2.3.1)\n",
            "Collecting nvidia-nvjitlink-cu12 (from nvidia-cusolver-cu12==11.4.5.107->torch>=1.11.0->sentence-transformers)\n",
            "  Downloading nvidia_nvjitlink_cu12-12.5.82-py3-none-manylinux2014_x86_64.whl (21.3 MB)\n",
            "\u001b[2K     \u001b[90m━━━━━━━━━━━━━━━━━━━━━━━━━━━━━━━━━━━━━━━━\u001b[0m \u001b[32m21.3/21.3 MB\u001b[0m \u001b[31m62.2 MB/s\u001b[0m eta \u001b[36m0:00:00\u001b[0m\n",
            "\u001b[?25hRequirement already satisfied: regex!=2019.12.17 in /usr/local/lib/python3.10/dist-packages (from transformers<5.0.0,>=4.34.0->sentence-transformers) (2024.5.15)\n",
            "Requirement already satisfied: safetensors>=0.4.1 in /usr/local/lib/python3.10/dist-packages (from transformers<5.0.0,>=4.34.0->sentence-transformers) (0.4.3)\n",
            "Requirement already satisfied: tokenizers<0.20,>=0.19 in /usr/local/lib/python3.10/dist-packages (from transformers<5.0.0,>=4.34.0->sentence-transformers) (0.19.1)\n",
            "Requirement already satisfied: joblib>=1.1.1 in /usr/local/lib/python3.10/dist-packages (from scikit-learn->sentence-transformers) (1.4.2)\n",
            "Requirement already satisfied: threadpoolctl>=2.0.0 in /usr/local/lib/python3.10/dist-packages (from scikit-learn->sentence-transformers) (3.5.0)\n",
            "Requirement already satisfied: MarkupSafe>=2.0 in /usr/local/lib/python3.10/dist-packages (from jinja2->torch>=1.11.0->sentence-transformers) (2.1.5)\n",
            "Requirement already satisfied: charset-normalizer<4,>=2 in /usr/local/lib/python3.10/dist-packages (from requests->huggingface-hub>=0.15.1->sentence-transformers) (3.3.2)\n",
            "Requirement already satisfied: idna<4,>=2.5 in /usr/local/lib/python3.10/dist-packages (from requests->huggingface-hub>=0.15.1->sentence-transformers) (3.7)\n",
            "Requirement already satisfied: urllib3<3,>=1.21.1 in /usr/local/lib/python3.10/dist-packages (from requests->huggingface-hub>=0.15.1->sentence-transformers) (2.0.7)\n",
            "Requirement already satisfied: certifi>=2017.4.17 in /usr/local/lib/python3.10/dist-packages (from requests->huggingface-hub>=0.15.1->sentence-transformers) (2024.7.4)\n",
            "Requirement already satisfied: mpmath<1.4,>=1.1.0 in /usr/local/lib/python3.10/dist-packages (from sympy->torch>=1.11.0->sentence-transformers) (1.3.0)\n",
            "Installing collected packages: nvidia-nvtx-cu12, nvidia-nvjitlink-cu12, nvidia-nccl-cu12, nvidia-curand-cu12, nvidia-cufft-cu12, nvidia-cuda-runtime-cu12, nvidia-cuda-nvrtc-cu12, nvidia-cuda-cupti-cu12, nvidia-cublas-cu12, nvidia-cusparse-cu12, nvidia-cudnn-cu12, nvidia-cusolver-cu12, sentence-transformers\n",
            "Successfully installed nvidia-cublas-cu12-12.1.3.1 nvidia-cuda-cupti-cu12-12.1.105 nvidia-cuda-nvrtc-cu12-12.1.105 nvidia-cuda-runtime-cu12-12.1.105 nvidia-cudnn-cu12-8.9.2.26 nvidia-cufft-cu12-11.0.2.54 nvidia-curand-cu12-10.3.2.106 nvidia-cusolver-cu12-11.4.5.107 nvidia-cusparse-cu12-12.1.0.106 nvidia-nccl-cu12-2.20.5 nvidia-nvjitlink-cu12-12.5.82 nvidia-nvtx-cu12-12.1.105 sentence-transformers-3.0.1\n"
          ]
        }
      ]
    },
    {
      "cell_type": "code",
      "source": [
        "from langchain.embeddings.openai import OpenAIEmbeddings\n",
        "from langchain.text_splitter import RecursiveCharacterTextSplitter\n",
        "from langchain.document_loaders import PyPDFLoader\n",
        "import openai\n",
        "import gdown"
      ],
      "metadata": {
        "id": "SzeYQ7-mx_IU"
      },
      "execution_count": 3,
      "outputs": []
    },
    {
      "cell_type": "markdown",
      "source": [
        "# ***Data Preprocessing***"
      ],
      "metadata": {
        "id": "zYlsDojL2fv0"
      }
    },
    {
      "cell_type": "code",
      "execution_count": 5,
      "metadata": {
        "id": "a_ZbJuKC2Z72",
        "colab": {
          "base_uri": "https://localhost:8080/"
        },
        "outputId": "3df475b3-4a9f-4d2f-b114-a0acd20f4092"
      },
      "outputs": [
        {
          "output_type": "stream",
          "name": "stderr",
          "text": [
            "Downloading...\n",
            "From: https://drive.google.com/uc?id=13stHs8NzNO_MZ20VWw2IT3yvndKt2MUx\n",
            "To: /content/DSM5.txt\n",
            "100%|██████████| 3.15M/3.15M [00:00<00:00, 141MB/s]\n",
            "Downloading...\n",
            "From: https://drive.google.com/uc?id=1VmmNHMt9FLqJu_FllQU5Ck6PF8CUabyY\n",
            "To: /content/DSM5.pdf\n",
            "100%|██████████| 32.0M/32.0M [00:00<00:00, 72.0MB/s]\n"
          ]
        }
      ],
      "source": [
        "# data txt url\n",
        "id = \"13stHs8NzNO_MZ20VWw2IT3yvndKt2MUx\"\n",
        "output = \"DSM5.txt\"\n",
        "gdown.download(id=id, output=output)\n",
        "\n",
        "txt_path = \"/content/DSM5.txt\"\n",
        "\n",
        "id = \"1VmmNHMt9FLqJu_FllQU5Ck6PF8CUabyY\"\n",
        "output = \"DSM5.pdf\"\n",
        "gdown.download(id=id, output=output)\n",
        "\n",
        "pdf_path = \"/content/DSM5.pdf\""
      ]
    },
    {
      "cell_type": "markdown",
      "source": [
        "## ***Vector Database***"
      ],
      "metadata": {
        "id": "wLtmYp2AdfSJ"
      }
    },
    {
      "cell_type": "code",
      "source": [
        "loader = PyPDFLoader(pdf_path)\n",
        "doc = loader.load()"
      ],
      "metadata": {
        "id": "IRvJQM8dHqzI"
      },
      "execution_count": 6,
      "outputs": []
    },
    {
      "cell_type": "code",
      "source": [
        "# split documents into text and embeddings\n",
        "text_splitter = RecursiveCharacterTextSplitter(\n",
        "   chunk_size=1000,\n",
        "   chunk_overlap=150\n",
        ")\n",
        "chunks = text_splitter.split_documents(doc)"
      ],
      "metadata": {
        "id": "nEWxZKLQI4Vv"
      },
      "execution_count": 7,
      "outputs": []
    },
    {
      "cell_type": "code",
      "source": [
        "chunks[1000]"
      ],
      "metadata": {
        "colab": {
          "base_uri": "https://localhost:8080/"
        },
        "id": "EPvxFEUPJQs9",
        "outputId": "03ab1f5d-4da8-4453-97ab-c3d12708714f"
      },
      "execution_count": 11,
      "outputs": [
        {
          "output_type": "execute_result",
          "data": {
            "text/plain": [
              "Document(metadata={'source': '/content/DSM5.pdf', 'page': 243}, page_content='Differential Diagnosis\\nNormative shyness. Shyness (i.e., social reticence) is a common personality trait and is \\nnot by itself pathological. In some societies, shyness is even evaluated positively. How\\xad\\never, when there is a significant adverse impact on social, occupational, and other impor\\xad\\ntant areas of functioning, a diagnosis of social anxiety disorder should be considered, and \\nwhen full diagnostic criteria for social anxiety disorder are met, the disorder should be di\\xad\\nagnosed. Only a minority (12%) of self-identified shy individuals in the United States have \\nsymptoms that meet diagnostic criteria for social anxiety disorder.\\nAgoraphobia. Individuals with agoraphobia may fear and avoid social situations (e.g., go\\xad\\ning to a movie) because escape might be difficult or help might not be available in the event of \\nincapacitation or panic-like symptoms, whereas individuals with social anxiety disorder are')"
            ]
          },
          "metadata": {},
          "execution_count": 11
        }
      ]
    },
    {
      "cell_type": "code",
      "source": [
        "context_array = []\n",
        "for i, row in enumerate(chunks):\n",
        "  context_array.append(row.page_content)\n",
        "\n",
        "context_array[150:160]"
      ],
      "metadata": {
        "colab": {
          "base_uri": "https://localhost:8080/"
        },
        "id": "eRKDyNlPJE1u",
        "outputId": "992f4a42-d486-4f94-8635-d06efd55aef3"
      },
      "execution_count": 12,
      "outputs": [
        {
          "output_type": "execute_result",
          "data": {
            "text/plain": [
              "[\"harmonization. However, given that adoption of the ICD-9-CM coding system will remain \\nat the time of the DSM-5 release, it will be necessary to use the ICD-9-CM codes. Further\\xad\\nmore, given that DSM-5's organizational structure reflects the anticipated structure of \\nICD-11, the eventual ICD-11 codes will follow the sequential order of diagnoses in the \\nDSM-5 chapter structure more closely. At present, both the ICD-9-CM and the ICD-IO-CM \\ncodes have been indicated for each disorder. These codes will not be in sequential order \\nthroughout the manual because they were assigned to complement earlier organizational \\nstructures.\\nDimensional Approach to Diagnosis\\nStructural problems rooted in the basic design of the previous DSM classification, con\\xad\\nstructed of a large number of narrow diagnostic categories, have emerged in both clinical \\npractice and research. Relevant evidence comes from diverse sources, including shidies of\",\n",
              " 'practice and research. Relevant evidence comes from diverse sources, including shidies of \\ncomorbidity and the substantial need for not otherwise specified diagnoses, which repre\\xad\\nsent the majority of diagnoses in areas such as eating disorders, personality disorders, and \\nautism spectrum disorder. Studies of both genetic and environmental risk factors, whether \\nbased on twin designs, familial transmission, or molecular analyses, also raise concerns \\nabout the categorical structure of the DSM system. Because the previous DSM approach \\nconsidered each diagnosis as categorically separate from health and from other diagnoses, \\nit did not capture the widespread sharing of symptoms and risk factors across many dis\\xad\\norders that is apparent in studies of comorbidity. Earlier editions of DSM focused on ex\\xad\\ncluding false-positive results from diagnoses; thus, its categories were overly narrow, as is \\napparent from the widespread need to use NOS diagnoses. Indeed, the once plausible goal',\n",
              " 'apparent from the widespread need to use NOS diagnoses. Indeed, the once plausible goal \\nof identifying homogeneous populations for treatment and research resulted in narrow di\\xad\\nagnostic categories that did not capture clinical reality, symptom heterogeneity within dis\\xad\\norders, and significant sharing of symptoms across multiple disorders. The historical \\naspiration of achieving diagnostic homogeneity by progressive subtyping within disorder \\ncategories no longer is sensible; like most common human ills, mental disorders are het\\xad\\nerogeneous at many levels, ranging from genetic risk factors to symptoms.\\nRelated to recommendations about alterations in the chapter structure of DSM-5, mem\\xad\\nbers of the diagnostic spectra study group examined whether scientific validators could \\ninform possible new groupings of related disorders within the existing categorical frame\\xad\\nwork. Eleven such indicators were recommended for this purpose: shared neural sub\\xad',\n",
              " 'work. Eleven such indicators were recommended for this purpose: shared neural sub\\xad\\nstrates, family traits, genetic risk factors, specific environmental risk factors, biomarkers, \\ntemperamental antecedents, abnormalities of emotional or cognitive processing, symptom \\nsimilarity, course of illness, high comorbidity, and shared treatment response. These indi\\xad\\ncators served as empirical guidelines to inform decision making by the work groups and \\nthe task force about how to cluster disorders to maximize their validity and clinical utility.\\nA series of papers was developed and published in a prominent international journal \\n(Psychological Medicine,  Vol. 39,2009) as part of both the DSM-5 and the ICD-11 develop\\xad\\nmental processes to document that such validators were most useful for suggesting large \\ngroupings of disorders rather than for \"validating\" individual disorder diagnostic criteria. \\nThe regrouping of mental disorders in DSM-5 is intended to enable future research to en-',\n",
              " 'hance understanding of disease origins and pathophysiological commonalities between \\ndisorders and provide a base for future replication wherein data can be reanalyzed over \\ntime to continually assess validity. Ongoing revisions of DSM-5 will make it a \\'\\'living doc\\xad\\nument,\" adaptable to future discoveries in neurobiology, genetics, and epidemiology.\\nOn the basis of the published findings of this common DSM-5 and ICD-11 analysis, it \\nwas demonstrated that clustering of disorders according to what has been termed internal\\xad\\nizing  and externalizing factors represents an empirically supported framework. Within both \\nthe internalizing group (representing disorders with prominent anxiety, depressive, and \\nsomatic symptoms) and the externalizing group (representing disorders with prominent \\nimpulsive, disruptive conduct, and substance use symptoms), the sharing of genetic and \\nenvironmental risk factors, as shown by twin studies, likely explains much of the system\\xad',\n",
              " 'environmental risk factors, as shown by twin studies, likely explains much of the system\\xad\\natic comorbidities seen in both clinical and community samples. The adjacent placement of \\n\"internalizing disorders,\" characterized by depressed mood, anxiety, and related physio\\xad\\nlogical and cognitive symptoms, should aid in developing new diagnostic approaches, in\\xad\\ncluding dimensional approaches, while facilitating the identification of biological markers. \\nSimilarly, adjacencies of the \"externalizing group,\" including disorders exhibiting antiso\\xad\\ncial behaviors, conduct disturbances, addictions, and impulse-control disorders, should en\\xad\\ncourage advances in identifying diagnoses, markers, and underlying mechanisms.\\nDespite the problem posed by categorical diagnoses, the DSM-5 Task Force recognized \\nthat it is premature scientifically to propose alternative definitions for most disorders. The \\norganizational structure is meant to serve as a bridge to new diagnostic approaches with\\xad',\n",
              " 'organizational structure is meant to serve as a bridge to new diagnostic approaches with\\xad\\nout disrupting current clinical practice or research. With support from DSM-associated \\ntraining materials, the National Institutes of Health other funding agencies, and scientific \\npublications, the more dimensional DSM-5 approach and organizational structure can fa\\xad\\ncilitate research across current diagnostic categories by encouraging broad investigations \\nwithin the proposed chapters and across adjacent chapters. Such a reformulation of re\\xad\\nsearch goals should also keep DSM-5 central to the development of dimensional approaches \\nto diagnosis that will likely supplement or supersede current categorical approaches in \\ncoming years.\\nDevelopmental and Lifespan Considerations\\nTo improve clinical utility, DSM-5 is organized on developmental and lifespan consider\\xad\\nations. It begins with diagnoses thought to reflect developmental processes that manifest',\n",
              " 'ations. It begins with diagnoses thought to reflect developmental processes that manifest \\nearly in life (e.g., neurodevelopmental and schizophrenia spectrum and other psychotic \\ndisorders), followed by diagnoses that more commonly manifest in adolescence and \\nyoung adulthood (e.g., bipolar, depressive, and anxiety disorders), and ends with diagno\\xad\\nses relevant to adulthood and later life (e.g., neurocognitive disorders). A similar approach \\nhas been taken, where possible, within each chapter. This organizational structure facili\\xad\\ntates the comprehensive use of lifespan information as a way to assist in diagnostic deci\\xad\\nsion making.\\nThe proposed organization of chapters of DSM-5, after the neurodevelopmental disor\\xad\\nders, is based on groups of internalizing (emotional and somatic) disorders, externalizing \\ndisorders, neurocognitive disorders, and other disorders. It is hoped that this organization',\n",
              " 'disorders, neurocognitive disorders, and other disorders. It is hoped that this organization \\nwill encourage further study of underlying pathophysiological processes that give rise to \\ndiagnostic comorbidity and symptom heterogeneity. Furthermore, by arranging disorder \\nclusters to mirror clinical reality, DSM-5 should facilitate identification of potential diag\\xad\\nnoses by non-mental health specialists, such as primary care physicians.\\nThe organizational structure of DSM-5, along with ICD harmonization, is designed to \\nprovide better and more flexible diagnostic concepts for the next epoch of research and to \\nserve as a useful guide to clinicians in explaining to patients why they might have received \\nmultiple diagnoses or why they might have received additional or altered diagnoses over \\ntheir lifespan.',\n",
              " 'Cultural Issues\\nMental disorders are defined in relation to cultural, social, and familial norms and values. \\nCulture provides interpretive frameworks that shape the experience and expression of the \\nsymptoms, signs, and behaviors that are criteria for diagnosis. Culture is transmitted, re\\xad\\nvised, and recreated within the family and other social systems and institutions. Diagnostic \\nassessment must therefore consider whether an individual\\'s experiences, symptoms, and \\nbehaviors differ from sociocultural norms and lead to difficulties in adaptation in the cul\\xad\\ntures of origin and in specific social or familial contexts. Key aspects of culture relevant to di\\xad\\nagnostic classification and assessment have been considered in the development of DSM-5.\\nIn Section III, the \"Cultural Formulation\" contains a detailed discussion of culture and \\ndiagnosis in DSM-5, including tools for in-depth cultural assessment. In the Appendix, the']"
            ]
          },
          "metadata": {},
          "execution_count": 12
        }
      ]
    },
    {
      "cell_type": "code",
      "source": [
        "def clean_text(text):\n",
        "    # Remove unwanted characters\n",
        "    text = text.replace('\\n', ' ').replace('\\xad', '')\n",
        "    # Fix broken words by removing extraneous spaces\n",
        "    text = ' '.join(text.split())\n",
        "    return text\n",
        "\n",
        "context_array_cleaned = []\n",
        "for i, chunk in enumerate(context_array):\n",
        "    context_array_cleaned.append(clean_text(chunk))\n",
        "\n",
        "context_array_cleaned[150:160]"
      ],
      "metadata": {
        "colab": {
          "base_uri": "https://localhost:8080/"
        },
        "id": "vWd6jzxfNda8",
        "outputId": "c2bd12a8-9de8-4886-fd44-1fe7acaf3950"
      },
      "execution_count": 13,
      "outputs": [
        {
          "output_type": "execute_result",
          "data": {
            "text/plain": [
              "[\"harmonization. However, given that adoption of the ICD-9-CM coding system will remain at the time of the DSM-5 release, it will be necessary to use the ICD-9-CM codes. Further more, given that DSM-5's organizational structure reflects the anticipated structure of ICD-11, the eventual ICD-11 codes will follow the sequential order of diagnoses in the DSM-5 chapter structure more closely. At present, both the ICD-9-CM and the ICD-IO-CM codes have been indicated for each disorder. These codes will not be in sequential order throughout the manual because they were assigned to complement earlier organizational structures. Dimensional Approach to Diagnosis Structural problems rooted in the basic design of the previous DSM classification, con structed of a large number of narrow diagnostic categories, have emerged in both clinical practice and research. Relevant evidence comes from diverse sources, including shidies of\",\n",
              " 'practice and research. Relevant evidence comes from diverse sources, including shidies of comorbidity and the substantial need for not otherwise specified diagnoses, which repre sent the majority of diagnoses in areas such as eating disorders, personality disorders, and autism spectrum disorder. Studies of both genetic and environmental risk factors, whether based on twin designs, familial transmission, or molecular analyses, also raise concerns about the categorical structure of the DSM system. Because the previous DSM approach considered each diagnosis as categorically separate from health and from other diagnoses, it did not capture the widespread sharing of symptoms and risk factors across many dis orders that is apparent in studies of comorbidity. Earlier editions of DSM focused on ex cluding false-positive results from diagnoses; thus, its categories were overly narrow, as is apparent from the widespread need to use NOS diagnoses. Indeed, the once plausible goal',\n",
              " 'apparent from the widespread need to use NOS diagnoses. Indeed, the once plausible goal of identifying homogeneous populations for treatment and research resulted in narrow di agnostic categories that did not capture clinical reality, symptom heterogeneity within dis orders, and significant sharing of symptoms across multiple disorders. The historical aspiration of achieving diagnostic homogeneity by progressive subtyping within disorder categories no longer is sensible; like most common human ills, mental disorders are het erogeneous at many levels, ranging from genetic risk factors to symptoms. Related to recommendations about alterations in the chapter structure of DSM-5, mem bers of the diagnostic spectra study group examined whether scientific validators could inform possible new groupings of related disorders within the existing categorical frame work. Eleven such indicators were recommended for this purpose: shared neural sub',\n",
              " 'work. Eleven such indicators were recommended for this purpose: shared neural sub strates, family traits, genetic risk factors, specific environmental risk factors, biomarkers, temperamental antecedents, abnormalities of emotional or cognitive processing, symptom similarity, course of illness, high comorbidity, and shared treatment response. These indi cators served as empirical guidelines to inform decision making by the work groups and the task force about how to cluster disorders to maximize their validity and clinical utility. A series of papers was developed and published in a prominent international journal (Psychological Medicine, Vol. 39,2009) as part of both the DSM-5 and the ICD-11 develop mental processes to document that such validators were most useful for suggesting large groupings of disorders rather than for \"validating\" individual disorder diagnostic criteria. The regrouping of mental disorders in DSM-5 is intended to enable future research to en-',\n",
              " 'hance understanding of disease origins and pathophysiological commonalities between disorders and provide a base for future replication wherein data can be reanalyzed over time to continually assess validity. Ongoing revisions of DSM-5 will make it a \\'\\'living doc ument,\" adaptable to future discoveries in neurobiology, genetics, and epidemiology. On the basis of the published findings of this common DSM-5 and ICD-11 analysis, it was demonstrated that clustering of disorders according to what has been termed internal izing and externalizing factors represents an empirically supported framework. Within both the internalizing group (representing disorders with prominent anxiety, depressive, and somatic symptoms) and the externalizing group (representing disorders with prominent impulsive, disruptive conduct, and substance use symptoms), the sharing of genetic and environmental risk factors, as shown by twin studies, likely explains much of the system',\n",
              " 'environmental risk factors, as shown by twin studies, likely explains much of the system atic comorbidities seen in both clinical and community samples. The adjacent placement of \"internalizing disorders,\" characterized by depressed mood, anxiety, and related physio logical and cognitive symptoms, should aid in developing new diagnostic approaches, in cluding dimensional approaches, while facilitating the identification of biological markers. Similarly, adjacencies of the \"externalizing group,\" including disorders exhibiting antiso cial behaviors, conduct disturbances, addictions, and impulse-control disorders, should en courage advances in identifying diagnoses, markers, and underlying mechanisms. Despite the problem posed by categorical diagnoses, the DSM-5 Task Force recognized that it is premature scientifically to propose alternative definitions for most disorders. The organizational structure is meant to serve as a bridge to new diagnostic approaches with',\n",
              " 'organizational structure is meant to serve as a bridge to new diagnostic approaches with out disrupting current clinical practice or research. With support from DSM-associated training materials, the National Institutes of Health other funding agencies, and scientific publications, the more dimensional DSM-5 approach and organizational structure can fa cilitate research across current diagnostic categories by encouraging broad investigations within the proposed chapters and across adjacent chapters. Such a reformulation of re search goals should also keep DSM-5 central to the development of dimensional approaches to diagnosis that will likely supplement or supersede current categorical approaches in coming years. Developmental and Lifespan Considerations To improve clinical utility, DSM-5 is organized on developmental and lifespan consider ations. It begins with diagnoses thought to reflect developmental processes that manifest',\n",
              " 'ations. It begins with diagnoses thought to reflect developmental processes that manifest early in life (e.g., neurodevelopmental and schizophrenia spectrum and other psychotic disorders), followed by diagnoses that more commonly manifest in adolescence and young adulthood (e.g., bipolar, depressive, and anxiety disorders), and ends with diagno ses relevant to adulthood and later life (e.g., neurocognitive disorders). A similar approach has been taken, where possible, within each chapter. This organizational structure facili tates the comprehensive use of lifespan information as a way to assist in diagnostic deci sion making. The proposed organization of chapters of DSM-5, after the neurodevelopmental disor ders, is based on groups of internalizing (emotional and somatic) disorders, externalizing disorders, neurocognitive disorders, and other disorders. It is hoped that this organization',\n",
              " 'disorders, neurocognitive disorders, and other disorders. It is hoped that this organization will encourage further study of underlying pathophysiological processes that give rise to diagnostic comorbidity and symptom heterogeneity. Furthermore, by arranging disorder clusters to mirror clinical reality, DSM-5 should facilitate identification of potential diag noses by non-mental health specialists, such as primary care physicians. The organizational structure of DSM-5, along with ICD harmonization, is designed to provide better and more flexible diagnostic concepts for the next epoch of research and to serve as a useful guide to clinicians in explaining to patients why they might have received multiple diagnoses or why they might have received additional or altered diagnoses over their lifespan.',\n",
              " 'Cultural Issues Mental disorders are defined in relation to cultural, social, and familial norms and values. Culture provides interpretive frameworks that shape the experience and expression of the symptoms, signs, and behaviors that are criteria for diagnosis. Culture is transmitted, re vised, and recreated within the family and other social systems and institutions. Diagnostic assessment must therefore consider whether an individual\\'s experiences, symptoms, and behaviors differ from sociocultural norms and lead to difficulties in adaptation in the cul tures of origin and in specific social or familial contexts. Key aspects of culture relevant to di agnostic classification and assessment have been considered in the development of DSM-5. In Section III, the \"Cultural Formulation\" contains a detailed discussion of culture and diagnosis in DSM-5, including tools for in-depth cultural assessment. In the Appendix, the']"
            ]
          },
          "metadata": {},
          "execution_count": 13
        }
      ]
    },
    {
      "cell_type": "code",
      "source": [
        "# Type 1\n",
        "\n",
        "openai.api_key = \"sk-proj-SV3W2lSZp4eFt2KfLMLlT3BlbkFJmg8PsE2Fbg77Kx7PZDMI\"\n",
        "\n",
        "def generate_embeddings(text_chunks):\n",
        "    embeddings = []\n",
        "    for chunk in text_chunks:\n",
        "        response = openai.Embedding.create(\n",
        "            input=chunk,\n",
        "            model=\"text-embedding-ada-002\"\n",
        "        )\n",
        "        embedding = response['data'][0]['embedding']\n",
        "        embeddings.append(embedding)\n",
        "    return embeddings\n",
        "\n",
        "embeddings = generate_embeddings(context_array_cleaned)"
      ],
      "metadata": {
        "id": "qQlPSMOJOQRc"
      },
      "execution_count": null,
      "outputs": []
    },
    {
      "cell_type": "code",
      "source": [
        "# Type 2\n",
        "\n",
        "from sentence_transformers import SentenceTransformer\n",
        "import torch\n",
        "\n",
        "# Check if GPU is available\n",
        "device = 'cuda' if torch.cuda.is_available() else 'cpu'\n",
        "print(f'Using device: {device}')\n",
        "\n",
        "# Load the pre-trained model\n",
        "model = SentenceTransformer('all-MiniLM-L6-v2', device=device)\n",
        "\n",
        "# Generate embeddings\n",
        "def generate_embeddings(text_chunks):\n",
        "    embeddings = model.encode(text_chunks, convert_to_tensor=True, device=device)\n",
        "    return embeddings\n",
        "\n",
        "embeddings = generate_embeddings(context_array_cleaned)"
      ],
      "metadata": {
        "colab": {
          "base_uri": "https://localhost:8080/"
        },
        "id": "XFy03X6WySc3",
        "outputId": "bc16fc2a-3353-401c-9a5c-476336080c9f"
      },
      "execution_count": 24,
      "outputs": [
        {
          "output_type": "stream",
          "name": "stdout",
          "text": [
            "Using device: cpu\n"
          ]
        }
      ]
    },
    {
      "cell_type": "code",
      "source": [
        "embeddings.shape, len(context_array_cleaned)"
      ],
      "metadata": {
        "colab": {
          "base_uri": "https://localhost:8080/"
        },
        "id": "xKu0g0rC1eXt",
        "outputId": "52bd8a12-3ea6-4d7d-ff4a-8b0956e9ee38"
      },
      "execution_count": 22,
      "outputs": [
        {
          "output_type": "execute_result",
          "data": {
            "text/plain": [
              "(torch.Size([3996, 384]), 3996)"
            ]
          },
          "metadata": {},
          "execution_count": 22
        }
      ]
    },
    {
      "cell_type": "markdown",
      "source": [
        "## ***Knowledge Graph***"
      ],
      "metadata": {
        "id": "kdpFwpiad_IH"
      }
    },
    {
      "cell_type": "code",
      "source": [
        "# from langchain.document_loaders import TextLoader\n",
        "from langchain.text_splitter import CharacterTextSplitter\n",
        "\n",
        "loader = PyPDFLoader(pdf_path)\n",
        "doc = loader.load()\n",
        "\n",
        "text_splitter = CharacterTextSplitter(chunk_size=200, chunk_overlap=20)\n",
        "texts = text_splitter.split_documents(doc)"
      ],
      "metadata": {
        "id": "VaYIBxuUeEeD"
      },
      "execution_count": 11,
      "outputs": []
    },
    {
      "cell_type": "code",
      "source": [
        "texts[150]"
      ],
      "metadata": {
        "colab": {
          "base_uri": "https://localhost:8080/"
        },
        "id": "CbB-PJdB1pOK",
        "outputId": "d37bb7de-0483-427c-f68f-9cad9c193164"
      },
      "execution_count": 12,
      "outputs": [
        {
          "output_type": "execute_result",
          "data": {
            "text/plain": [
              "Document(metadata={'source': '/content/DSM5.pdf', 'page': 150}, page_content='or substance withdrawal with the accompanying specifier \"with perceptual disturbances\" \\n(applies to alcohpl withdrawal; cannabis intoxication; sedative, hypnotic, or anxiolytic \\nwithdrawal; and stimulant intoxication).\\nA substance/medication-induced psychotic disorder is distinguished from a primary \\npsychotic disorder by considering the onset, course, and other factors. For drugs of abuse, \\nthere must be evidence from the history, physical examination, or laboratory findings of \\nsubstance use, intoxication, or withdrawal. Substance/medication-induced psychotic \\ndisorders arise during or soon after exposure to a medication or after substance intoxica\\xad\\ntion or withdrawal but can persist for weeks, whereas primary psychotic disorders may \\nprecede the onset of substance/medication use or may occur during times of sustained ab\\xad\\nstinence. Once initiated, the psychotic symptoms may continue as long as the substance/ \\nmedication use continues. Another consideration is the presence of features that are atyp\\xad\\nical of a primary psychotic disorder (e.g., atypical age at onset or course). For example, the \\nappearance of delusions de novo in a person older than 35 years without a known history \\nof a primary psychotic disorder should suggest the possibility of a substance/medication- \\ninduced psychotic disorder. Even a prior history of a primary psychotic disorder does not \\nrule out the possibility of a substance/medication-induced psychotic disorder. In contrast, \\nfactors that suggest that the psychotic symptoms are better accounted for by a primary \\npsychotic disorder include persistence of psychotic symptoms for a substantial period of \\ntime (i.e., a month or more) after the end of substance intoxication or acute substance with\\xad\\ndrawal or after cessation of medication use; or a history of prior recurrent primary psy\\xad\\nchotic disorders. Other causes of psychotic symptoms must be considered even in an \\nindividual with substance intoxication or withdrawal, because substance use problems are \\nnot uncommon among individuals with non-substance/medication-induced psychotic \\ndisorders.\\nIn addition to the four symptom domain areas identified in the diagnostic criteria, the \\nassessment of cognition, depression, and mania symptom domains is vital for making crit\\xad\\nically important distinctions between the various schizophrenia spectrum and other psy\\xad\\nchotic disorders.\\nAssociated Features Supporting Diagnosis\\nPsychotic disorders can occur in association with intoxication with the following classes of \\nsubstances: alcohol; cannabis; hallucinogens, including phencyclidine and related sub\\xad\\nstances; inhalants; sedatives, hypnotics, and anxiolytics; stimulants (including cocaine); \\nand other (or unknown) substances. Psychotic disorders can occur in association with with\\xad\\ndrawal from the following classes of substances: alcohol; sedatives, hypnotics, and anxio\\xad\\nlytics; and other (or unknown) substances.\\nSome of the medications reported to evoke psychotic symptoms include anesthetics \\nand analgesics, anticholinergic agents, anticonvulsants, antihistamines, antihypertensive \\nand cardiovascular medications, antimicrobial medications, antiparkinsonian medica\\xad\\ntions, chemotherapeutic agents (e.g., cyclosporine, procarbazine), corticosteroids, gastro\\xad\\nintestinal medications, muscle relaxants, nonsteroidal anti-inflammatory medications, \\nother over-the-counter medications (e.g., phenylephrine, pseudoephedrine), antidepres\\xad\\nsant medication, and disulfiram. Toxins reported to induce psychotic symptoms include \\nanticholinesterase, organophosphate insecticides, sarin and other nerve gases, carbon \\nmonoxide, carbon dioxide, and volatile substances such as fuel or paint.\\nPrevaience\\nPrevalence of substance/medication-induced psychotic disorder in the general popula\\xad\\ntion is unknown. Between 7% and 25% of individuals presenting with a first episode of \\npsychosis in different settings are reported to have substance/medication-induced psy\\xad\\nchotic disorder.')"
            ]
          },
          "metadata": {},
          "execution_count": 12
        }
      ]
    },
    {
      "cell_type": "code",
      "source": [
        "def clean_text(text):\n",
        "    # Remove unwanted characters\n",
        "    text = text.replace('\\n', ' ').replace('\\xad', '')\n",
        "    # Fix broken words by removing extraneous spaces\n",
        "    text = ' '.join(text.split())\n",
        "    return text\n",
        "\n",
        "\n",
        "for i, row in enumerate(texts):\n",
        "  texts[i].page_content = clean_text(row.page_content)\n",
        "\n",
        "\n",
        "texts[150]"
      ],
      "metadata": {
        "colab": {
          "base_uri": "https://localhost:8080/"
        },
        "id": "uBfSjw6F2rM_",
        "outputId": "37e925ad-93df-4167-aa0c-a65475475c26"
      },
      "execution_count": 13,
      "outputs": [
        {
          "output_type": "execute_result",
          "data": {
            "text/plain": [
              "Document(metadata={'source': '/content/DSM5.pdf', 'page': 150}, page_content='or substance withdrawal with the accompanying specifier \"with perceptual disturbances\" (applies to alcohpl withdrawal; cannabis intoxication; sedative, hypnotic, or anxiolytic withdrawal; and stimulant intoxication). A substance/medication-induced psychotic disorder is distinguished from a primary psychotic disorder by considering the onset, course, and other factors. For drugs of abuse, there must be evidence from the history, physical examination, or laboratory findings of substance use, intoxication, or withdrawal. Substance/medication-induced psychotic disorders arise during or soon after exposure to a medication or after substance intoxica tion or withdrawal but can persist for weeks, whereas primary psychotic disorders may precede the onset of substance/medication use or may occur during times of sustained ab stinence. Once initiated, the psychotic symptoms may continue as long as the substance/ medication use continues. Another consideration is the presence of features that are atyp ical of a primary psychotic disorder (e.g., atypical age at onset or course). For example, the appearance of delusions de novo in a person older than 35 years without a known history of a primary psychotic disorder should suggest the possibility of a substance/medication- induced psychotic disorder. Even a prior history of a primary psychotic disorder does not rule out the possibility of a substance/medication-induced psychotic disorder. In contrast, factors that suggest that the psychotic symptoms are better accounted for by a primary psychotic disorder include persistence of psychotic symptoms for a substantial period of time (i.e., a month or more) after the end of substance intoxication or acute substance with drawal or after cessation of medication use; or a history of prior recurrent primary psy chotic disorders. Other causes of psychotic symptoms must be considered even in an individual with substance intoxication or withdrawal, because substance use problems are not uncommon among individuals with non-substance/medication-induced psychotic disorders. In addition to the four symptom domain areas identified in the diagnostic criteria, the assessment of cognition, depression, and mania symptom domains is vital for making crit ically important distinctions between the various schizophrenia spectrum and other psy chotic disorders. Associated Features Supporting Diagnosis Psychotic disorders can occur in association with intoxication with the following classes of substances: alcohol; cannabis; hallucinogens, including phencyclidine and related sub stances; inhalants; sedatives, hypnotics, and anxiolytics; stimulants (including cocaine); and other (or unknown) substances. Psychotic disorders can occur in association with with drawal from the following classes of substances: alcohol; sedatives, hypnotics, and anxio lytics; and other (or unknown) substances. Some of the medications reported to evoke psychotic symptoms include anesthetics and analgesics, anticholinergic agents, anticonvulsants, antihistamines, antihypertensive and cardiovascular medications, antimicrobial medications, antiparkinsonian medica tions, chemotherapeutic agents (e.g., cyclosporine, procarbazine), corticosteroids, gastro intestinal medications, muscle relaxants, nonsteroidal anti-inflammatory medications, other over-the-counter medications (e.g., phenylephrine, pseudoephedrine), antidepres sant medication, and disulfiram. Toxins reported to induce psychotic symptoms include anticholinesterase, organophosphate insecticides, sarin and other nerve gases, carbon monoxide, carbon dioxide, and volatile substances such as fuel or paint. Prevaience Prevalence of substance/medication-induced psychotic disorder in the general popula tion is unknown. Between 7% and 25% of individuals presenting with a first episode of psychosis in different settings are reported to have substance/medication-induced psy chotic disorder.')"
            ]
          },
          "metadata": {},
          "execution_count": 13
        }
      ]
    },
    {
      "cell_type": "code",
      "source": [
        "from langchain_experimental.graph_transformers import LLMGraphTransformer\n",
        "from langchain_openai import ChatOpenAI\n",
        "import openai\n",
        "import getpass\n",
        "import os\n",
        "\n",
        "# Load environment variable for OpenAI API key\n",
        "os.environ[\"OPENAI_API_KEY\"] = \"sk-proj-SV3W2lSZp4eFt2KfLMLlT3BlbkFJmg8PsE2Fbg77Kx7PZDMI\"#getpass.getpass()\n",
        "\n",
        "# Initialize LLM\n",
        "llm = ChatOpenAI(temperature=0, model_name=\"gpt-3.5-turbo\")\n",
        "\n",
        "# Extract Knowledge Graph\n",
        "llm_transformer = LLMGraphTransformer(llm=llm)\n",
        "graph_documents = llm_transformer.convert_to_graph_documents(texts)"
      ],
      "metadata": {
        "id": "bEiComcP1dvJ"
      },
      "execution_count": null,
      "outputs": []
    },
    {
      "cell_type": "code",
      "source": [
        "from langchain_community.graphs import Neo4jGraph\n",
        "\n",
        "os.environ[\"NEO4J_URI\"] = \"bolt://localhost:7687\"\n",
        "os.environ[\"NEO4J_USERNAME\"] = \"neo4j\"\n",
        "os.environ[\"NEO4J_PASSWORD\"] = \"password\"\n",
        "\n",
        "graph = Neo4jGraph()"
      ],
      "metadata": {
        "id": "gJha9tXsC9Rd"
      },
      "execution_count": null,
      "outputs": []
    },
    {
      "cell_type": "code",
      "source": [
        "graph.add_graph_documents(graph_documents_props)"
      ],
      "metadata": {
        "id": "K7WHGyp4DiE2"
      },
      "execution_count": null,
      "outputs": []
    }
  ]
}